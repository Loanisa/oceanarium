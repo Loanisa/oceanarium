{
  "nbformat": 4,
  "nbformat_minor": 0,
  "metadata": {
    "colab": {
      "provenance": [],
      "include_colab_link": true
    },
    "kernelspec": {
      "name": "python3",
      "display_name": "Python 3"
    },
    "language_info": {
      "name": "python"
    }
  },
  "cells": [
    {
      "cell_type": "markdown",
      "metadata": {
        "id": "view-in-github",
        "colab_type": "text"
      },
      "source": [
        "<a href=\"https://colab.research.google.com/github/Loanisa/oceanarium/blob/main/1_2_for_loops_refresher_solutions.ipynb\" target=\"_parent\"><img src=\"https://colab.research.google.com/assets/colab-badge.svg\" alt=\"Open In Colab\"/></a>"
      ]
    },
    {
      "cell_type": "markdown",
      "source": [
        "### For loops\n",
        "\n",
        "Whenever you want to apply any transformation to all elements in a list, you iterate through them with a `for` loop."
      ],
      "metadata": {
        "id": "qcCLIqCWl5BG"
      }
    },
    {
      "cell_type": "code",
      "execution_count": null,
      "metadata": {
        "colab": {
          "base_uri": "https://localhost:8080/"
        },
        "id": "4_qdFrsplydj",
        "outputId": "9f71f4e0-f427-400b-aeeb-2551d43f2edf"
      },
      "outputs": [
        {
          "output_type": "stream",
          "name": "stdout",
          "text": [
            "2\n",
            "4\n",
            "6\n",
            "8\n",
            "10\n"
          ]
        }
      ],
      "source": [
        "numbers = [1, 2, 3, 4, 5]\n",
        "\n",
        "for num in numbers:\n",
        "    print(num * 2)\n"
      ]
    },
    {
      "cell_type": "markdown",
      "source": [
        "In the example above, we have a list of numbers from 1 to 5. We loop through the list using a `for` loop and define the variable `num` as the variable that will represent each item in the list as we loop through it.\n",
        "\n",
        "Inside the loop, we simply print out the value of `num` multiplied by 2. As the loop runs, the variable `num` will take on each value in the `numbers` list in turn, and the corresponding value multiplied by 2 will be printed."
      ],
      "metadata": {
        "id": "E34xKn6_rJOW"
      }
    },
    {
      "cell_type": "markdown",
      "source": [
        "If we wanted to store the resulting transformations of our loop into a new list, we would define an empty list first, and then append() all the elements as we iterate through the loop:"
      ],
      "metadata": {
        "id": "THsKX2Hjsp4g"
      }
    },
    {
      "cell_type": "code",
      "source": [
        "multiplied_by_two_numbers = []\n",
        "\n",
        "for num in numbers:\n",
        "    multiplied_by_two_numbers.append(num * 2)\n",
        "\n",
        "\n",
        "multiplied_by_two_numbers"
      ],
      "metadata": {
        "colab": {
          "base_uri": "https://localhost:8080/"
        },
        "id": "BP1lI6PrrEbs",
        "outputId": "b1e40b65-c198-4bdb-cb44-33694e320759"
      },
      "execution_count": null,
      "outputs": [
        {
          "output_type": "execute_result",
          "data": {
            "text/plain": [
              "[2, 4, 6, 8, 10]"
            ]
          },
          "metadata": {},
          "execution_count": 22
        }
      ]
    },
    {
      "cell_type": "markdown",
      "source": [
        "**Exercise 1** Create a new list `divided_by_two_numbers` by iterating through the `numbers` list with a `for` loop and dividing each element by 2."
      ],
      "metadata": {
        "id": "BCS5Ayypu2Wt"
      }
    },
    {
      "cell_type": "code",
      "source": [
        "# Your code here\n",
        "divided_by_two_numbers = []\n",
        "\n",
        "for num in numbers:\n",
        "    divided_by_two_numbers.append(num / 2)\n",
        "\n",
        "\n",
        "divided_by_two_numbers"
      ],
      "metadata": {
        "colab": {
          "base_uri": "https://localhost:8080/"
        },
        "id": "rSthgUPPtYt6",
        "outputId": "4153f3f5-ba43-462a-8cf8-8394e916c5e2"
      },
      "execution_count": null,
      "outputs": [
        {
          "output_type": "execute_result",
          "data": {
            "text/plain": [
              "[0.5, 1.0, 1.5, 2.0, 2.5]"
            ]
          },
          "metadata": {},
          "execution_count": 23
        }
      ]
    },
    {
      "cell_type": "markdown",
      "source": [
        "### Conditions with `if`\n",
        "\n",
        "Whenever you want to do something only if a condition is met, you will need an `if` statement. Let's say we want multiply by 2 only the even numbers and multiply by 3 only the odd ones from our `numbers` list."
      ],
      "metadata": {
        "id": "sLTvXW-PwL_t"
      }
    },
    {
      "cell_type": "markdown",
      "source": [
        "We can check one by one whether all numbers from our `numbers` list are even using the modulo operator `%`. The `%` operator returns the remainder of a division operation, so if a number is even, dividing it by 2 will result in a remainder of 0."
      ],
      "metadata": {
        "id": "jb7zNagGyIxA"
      }
    },
    {
      "cell_type": "code",
      "source": [
        "# numbers = [1, 2, 3, 4, 5]. The first element is 1\n",
        "print((numbers[0] % 2) == 0)\n",
        "\n",
        "# numbers = [1, 2, 3, 4, 5]. The second element is 2\n",
        "print((numbers[1] % 2) == 0)"
      ],
      "metadata": {
        "colab": {
          "base_uri": "https://localhost:8080/"
        },
        "id": "6lLgaP1vwhDM",
        "outputId": "b9978c30-86b7-4244-dff9-e2cedc2a9459"
      },
      "execution_count": null,
      "outputs": [
        {
          "output_type": "stream",
          "name": "stdout",
          "text": [
            "False\n",
            "True\n"
          ]
        }
      ]
    },
    {
      "cell_type": "markdown",
      "source": [
        "These booleans, `True` or `False`, are exactly what `if` statements need. Whenever a condition is true, the code below the `if` statement runs; if the condition is false, the code is skipped and nothing happens:"
      ],
      "metadata": {
        "id": "MPf8ejor1qX0"
      }
    },
    {
      "cell_type": "code",
      "source": [
        "condition = True\n",
        "\n",
        "if condition:\n",
        "    print(\"yay\")"
      ],
      "metadata": {
        "colab": {
          "base_uri": "https://localhost:8080/"
        },
        "id": "GmoQl1LNz6M4",
        "outputId": "2e8c06e4-ada6-4e45-edda-9717953ec84d"
      },
      "execution_count": null,
      "outputs": [
        {
          "output_type": "stream",
          "name": "stdout",
          "text": [
            "yay\n"
          ]
        }
      ]
    },
    {
      "cell_type": "code",
      "source": [
        "condition = False\n",
        "\n",
        "if condition:\n",
        "    print(\"yay\")"
      ],
      "metadata": {
        "id": "opZrA9ZZ2bqe"
      },
      "execution_count": null,
      "outputs": []
    },
    {
      "cell_type": "markdown",
      "source": [
        "Let's run a `for` loop to check which elements from the `numbers` list are even numbers:"
      ],
      "metadata": {
        "id": "khTZ22BS2wTd"
      }
    },
    {
      "cell_type": "code",
      "source": [
        "# numbers = [1, 2, 3, 4, 5]\n",
        "\n",
        "for num in numbers:\n",
        "  if num % 2 == 0:\n",
        "    print(num, \"is even\")"
      ],
      "metadata": {
        "colab": {
          "base_uri": "https://localhost:8080/"
        },
        "id": "cWwn4ZhE2gFy",
        "outputId": "965f109b-f940-495a-9058-88308c37c94d"
      },
      "execution_count": null,
      "outputs": [
        {
          "output_type": "stream",
          "name": "stdout",
          "text": [
            "2 is even\n",
            "4 is even\n"
          ]
        }
      ]
    },
    {
      "cell_type": "markdown",
      "source": [
        "An `else` statement can be added if you want to do something with the elements that did not meet the condition."
      ],
      "metadata": {
        "id": "to3LxOoo3yOM"
      }
    },
    {
      "cell_type": "code",
      "source": [
        "# numbers = [1, 2, 3, 4, 5]\n",
        "\n",
        "for num in numbers:\n",
        "    if num % 2 == 0:\n",
        "        print(num, \"is even\")\n",
        "    else:\n",
        "        print(num, \"is odd\")\n"
      ],
      "metadata": {
        "colab": {
          "base_uri": "https://localhost:8080/"
        },
        "id": "6c3ODE863YyJ",
        "outputId": "d7b1230a-1b1c-4c13-cac6-834c0ef89c48"
      },
      "execution_count": null,
      "outputs": [
        {
          "output_type": "stream",
          "name": "stdout",
          "text": [
            "1 is odd\n",
            "2 is even\n",
            "3 is odd\n",
            "4 is even\n",
            "5 is odd\n"
          ]
        }
      ]
    },
    {
      "cell_type": "markdown",
      "source": [
        "So we can now tie everything together:\n",
        "\n",
        "- A for loop that iterates through the numbers in the `numbers` list.\n",
        "\n",
        "- An `if` statment that checks whether a number is even or odd.\n",
        "\n",
        "- Multiply the even numbers by 2 and the odd ones by 3."
      ],
      "metadata": {
        "id": "rOWVxNbF7rmg"
      }
    },
    {
      "cell_type": "code",
      "source": [
        "# numbers = [1, 2, 3, 4, 5]\n",
        "\n",
        "for num in numbers:\n",
        "    if num % 2 == 0:\n",
        "        print(num, \"is even,\", num, \"* 2 =\", num * 2)\n",
        "    else:\n",
        "        print(num, \"is odd,\", num, \"* 3 =\", num * 3)"
      ],
      "metadata": {
        "colab": {
          "base_uri": "https://localhost:8080/"
        },
        "id": "8reQLQLB39EV",
        "outputId": "a9248fe2-9936-461f-f56e-40987d646116"
      },
      "execution_count": null,
      "outputs": [
        {
          "output_type": "stream",
          "name": "stdout",
          "text": [
            "1 is odd, 1 * 3 = 3\n",
            "2 is even, 2 * 2 = 4\n",
            "3 is odd, 3 * 3 = 9\n",
            "4 is even, 4 * 2 = 8\n",
            "5 is odd, 5 * 3 = 15\n"
          ]
        }
      ]
    },
    {
      "cell_type": "markdown",
      "source": [
        "#### **Exercise 2:**\n",
        "Using a for loop, write a program that counts the number of vowels (a, e, i, o, u) in the following text: \"Hello world! I am practicing 'for' loops.\"  Print the total count of vowels at the end."
      ],
      "metadata": {
        "id": "1rS4QT_wCrzR"
      }
    },
    {
      "cell_type": "code",
      "source": [
        "# Your code here:\n",
        "my_string = \"Hello world! I am practicing 'for' loops.\"\n",
        "\n",
        "count_vowels = 0\n",
        "\n",
        "\n",
        "for char in my_string:\n",
        "    if char in \"aeiouAEIOU\":\n",
        "        count_vowels += 1\n",
        "\n",
        "print(\"Total vowels:\", count_vowels)"
      ],
      "metadata": {
        "colab": {
          "base_uri": "https://localhost:8080/"
        },
        "id": "-jHRpqpk-HvH",
        "outputId": "a081e4d4-5069-456e-bdcd-e49f4bb2f296"
      },
      "execution_count": null,
      "outputs": [
        {
          "output_type": "stream",
          "name": "stdout",
          "text": [
            "Total vowels: 11\n"
          ]
        }
      ]
    },
    {
      "cell_type": "markdown",
      "source": [
        "#### **Bonus! Exercise 3:**\n",
        "Create a program that finds out your age in a maximum of 8 tries! The program can ask you only one type of question: guessing your age! (e.g. “Are you 47 years old?”) And you can answer only one of these three options:\n",
        "\n",
        "*   younger\n",
        "*   older\n",
        "*   yes\n",
        "\n",
        "Based on your answer the computer can come up with another guess until it finds out your exact age.\n",
        "\n",
        "**Tip:** to solve this task, you will have to use the input() function! More info: [here](https://docs.python.org/3/library/functions.html#input). It is totally normal if you don't know how to approach this exercise right away. Google is your friend! If you are stuck for a long time (above 30 min), and have already tried many things, it's time to ask for help to your instructor."
      ],
      "metadata": {
        "id": "I7s1w6nEgsHb"
      }
    },
    {
      "cell_type": "code",
      "source": [
        "# your code here\n",
        "\n",
        "# I set a range between 0 and 100 and I assume that the age of the “player” will be between these two values:\n",
        "min_age = 0\n",
        "max_age = 100\n",
        "\n",
        "\n",
        "# The script always asks the middle value of this range (for the first try it’s 50):\n",
        "for i in range(9):\n",
        "    guessed_age = int((min_age + max_age) / 2)\n",
        "    answer = input('Are you ' + str(guessed_age) + \" years old?\")\n",
        "\n",
        "    # If the guessed age is correct, then the script ends and it returns some answer:\n",
        "    if answer == 'yes':\n",
        "        print(\"Nice\")\n",
        "        break\n",
        "\n",
        "    # If the answer is “younger”, then we start the iteration over,\n",
        "    # but before that we set the maximum value of the age-range to the guessed age.\n",
        "    # So in the second iteration the script will guess the middle value of 0 and 50:\n",
        "    elif answer == 'younger':\n",
        "        max_age = guessed_age\n",
        "\n",
        "    # We do the same for the “more” answer,\n",
        "    # except that in this case we change the minimum (and not the the maximum) value.\n",
        "    # So in the second iteration the script will guess the middle value of 50 and 100:\n",
        "    elif answer == 'older':\n",
        "        min_age = guessed_age\n",
        "\n",
        "    # And eventually we handle the wrong answers and the typos:\n",
        "    else:\n",
        "        print('wrong answer')"
      ],
      "metadata": {
        "colab": {
          "base_uri": "https://localhost:8080/"
        },
        "id": "mzqd-DtyELFS",
        "outputId": "1af03845-1f3d-45ba-c04c-efd4480c2630"
      },
      "execution_count": null,
      "outputs": [
        {
          "output_type": "stream",
          "name": "stdout",
          "text": [
            "Are you 50 years old?younger\n",
            "Are you 25 years old?older\n",
            "Are you 37 years old?yes\n",
            "Nice\n"
          ]
        }
      ]
    }
  ]
}