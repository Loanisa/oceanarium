{
  "nbformat": 4,
  "nbformat_minor": 0,
  "metadata": {
    "colab": {
      "provenance": [],
      "include_colab_link": true
    },
    "kernelspec": {
      "name": "python3",
      "display_name": "Python 3"
    },
    "language_info": {
      "name": "python"
    }
  },
  "cells": [
    {
      "cell_type": "markdown",
      "metadata": {
        "id": "view-in-github",
        "colab_type": "text"
      },
      "source": [
        "<a href=\"https://colab.research.google.com/github/Loanisa/oceanarium/blob/main/16_debugging_challenges__SOLUTION.ipynb\" target=\"_parent\"><img src=\"https://colab.research.google.com/assets/colab-badge.svg\" alt=\"Open In Colab\"/></a>"
      ]
    },
    {
      "cell_type": "markdown",
      "source": [
        "# Debugging Python code\n",
        "\n",
        "\n",
        "Go through the exercises below.\n",
        "\n",
        "- Each exercise contains some code with **one or more mistakes**.\n",
        "- The mistakes can either prompt an error or not.\n",
        "- There might be multiple ways to fix the mistakes.\n",
        "- Improving the code readability is also encouraged."
      ],
      "metadata": {
        "id": "eGqyDOiK4nv5"
      }
    },
    {
      "cell_type": "code",
      "source": [
        "# data creation\n",
        "beatles = [\"John Lennon\", \"Paul McCartney\", \"George Harrison\", \"Ringo Starr\"]\n",
        "\n",
        "numbers = [1, 2, 3, 4, 5]\n",
        "\n",
        "capitals = {\"Germany\": \"Berlin\",\n",
        "            \"Russia\": \"Moscow\",\n",
        "            \"France\": \"Paris\",\n",
        "            \"China\": \"Beijing\",\n",
        "            \"Egypt\": \"Cairo\",\n",
        "            \"Brazil\": \"Sao Paulo\"\n",
        "            }\n",
        "\n",
        "top_profitable_films = {\n",
        "    \"Film\": [\"Avengers: Endgame\", \"Avatar\", \"Titanic\", \"Star Wars: The Force Awakens\", \"Jurassic World\",\n",
        "             \"The Lion King\", \"The Avengers\", \"Frozen II\", \"Frozen\", \"Beauty and the Beast\"],\n",
        "    \"Year\": [\"2019\", \"2007\", \"1997\", \"2015\", \"2015\", \"2019\", \"2012\", \"2019\", \"2013\", \"2017\"],\n",
        "    \"Worldwide Gross (in billions)\": [\"2.798\", \"2.789\", \"2.194\", \"2.073\", \"1.673\", \"1.656\", \"1.519\",\n",
        "                                      \"1.450\", \"1.276\", \"1.263\"]\n",
        "    }"
      ],
      "metadata": {
        "id": "7teQ1W7aJKqR"
      },
      "execution_count": 1,
      "outputs": []
    },
    {
      "cell_type": "markdown",
      "source": [
        "**Logical error**: the capital of Brazil is acually Brasilia, not Sao Paulo!"
      ],
      "metadata": {
        "id": "yr5D3PFwKMyG"
      }
    },
    {
      "cell_type": "code",
      "source": [
        "for c in capitals.keys():\n",
        "  print(f\"{c} is the capital of {capitals[c]}.\")"
      ],
      "metadata": {
        "id": "ewUmgIlNbUoA",
        "outputId": "af15452e-38d4-448a-f025-9d0e732a4a5a",
        "colab": {
          "base_uri": "https://localhost:8080/"
        }
      },
      "execution_count": 4,
      "outputs": [
        {
          "output_type": "stream",
          "name": "stdout",
          "text": [
            "Germany is the capital of Berlin.\n",
            "Russia is the capital of Moscow.\n",
            "France is the capital of Paris.\n",
            "China is the capital of Beijing.\n",
            "Egypt is the capital of Cairo.\n",
            "Brazil is the capital of Sao Paulo.\n"
          ]
        }
      ]
    },
    {
      "cell_type": "code",
      "source": [
        "capitals[\"Brazil\"] = \"Brasilia\""
      ],
      "metadata": {
        "id": "dUdY7gAnKLOl"
      },
      "execution_count": null,
      "outputs": []
    },
    {
      "cell_type": "markdown",
      "source": [
        "## Exercise 1:"
      ],
      "metadata": {
        "id": "BaJkDo5mMZX2"
      }
    },
    {
      "cell_type": "code",
      "source": [
        "for c in Capitals.keys():\n",
        "  print(f\"{c} is the capital of {Capitals[c]}.\")"
      ],
      "metadata": {
        "id": "05L7VqDMKfx2"
      },
      "execution_count": null,
      "outputs": []
    },
    {
      "cell_type": "markdown",
      "source": [
        "**Solution:**\n",
        "1. The `NameError` with the message \"NameError: name 'Capitals' is not defined\" occurs because variable `capitals` that we actually defined is not capitalized. `Capitals` does not exist."
      ],
      "metadata": {
        "id": "kUcjazFnLrre"
      }
    },
    {
      "cell_type": "code",
      "source": [
        "for c in capitals.keys():\n",
        "  print(f\"{c} is the capital of {capitals[c]}.\")"
      ],
      "metadata": {
        "id": "le0oJfkbLEPW"
      },
      "execution_count": null,
      "outputs": []
    },
    {
      "cell_type": "markdown",
      "source": [
        "2. We have to switch the country and the capital for the sentences to make sense."
      ],
      "metadata": {
        "id": "Nhz-TI8Wkmjq"
      }
    },
    {
      "cell_type": "code",
      "source": [
        "for c in capitals.keys():\n",
        "  print(f\"{capitals[c]} is the capital of {c}.\")"
      ],
      "metadata": {
        "id": "NJCv-o30kkw9"
      },
      "execution_count": null,
      "outputs": []
    },
    {
      "cell_type": "markdown",
      "source": [
        "3. Optionally, we can give a more meaningful name to the iterator variable so that the code is easier to understand."
      ],
      "metadata": {
        "id": "IVmIgb_Dkt86"
      }
    },
    {
      "cell_type": "code",
      "source": [
        "for country in capitals.keys():\n",
        "  print(f\"{capitals[country]} is the capital of {country}.\")"
      ],
      "metadata": {
        "id": "FwBW2_7Mkz0Y"
      },
      "execution_count": null,
      "outputs": []
    },
    {
      "cell_type": "markdown",
      "source": [
        "## Exercise 2:\n",
        "Let's imagine we want to show our love for Ringo Starr and print a love statement for him as many times as numbers are in the `numbers` list. For all Beatles who are not Ringo, we want to print as many times a hate statement. The output should look like this:\n",
        "\n",
        "```\n",
        "I hate John Lennon!\n",
        "I hate Paul McCartney!\n",
        "I hate George Harrison!\n",
        "I love Ringo Starr!\n",
        "\n",
        "\n",
        "I hate John Lennon!\n",
        "I hate Paul McCartney!\n",
        "I hate George Harrison!\n",
        "I love Ringo Starr!\n",
        "\n",
        "\n",
        "I hate John Lennon!\n",
        "I hate Paul McCartney!\n",
        "I hate George Harrison!\n",
        "I love Ringo Starr!\n",
        "\n",
        "\n",
        "I hate John Lennon!\n",
        "I hate Paul McCartney!\n",
        "I hate George Harrison!\n",
        "I love Ringo Starr!\n",
        "\n",
        "\n",
        "I hate John Lennon!\n",
        "I hate Paul McCartney!\n",
        "I hate George Harrison!\n",
        "I love Ringo Starr!\n",
        "```\n",
        "\n"
      ],
      "metadata": {
        "id": "Ktqf8UlUT7Wo"
      }
    },
    {
      "cell_type": "code",
      "source": [
        "for beatle in beatles:\n",
        "  if beatle = \"Ringo Starr\":\n",
        "    for n in numbers:\n",
        "      print(f\"I love {beatle}!\")\n",
        "  if beatle != \"Ringo Starr\":\n",
        "    print(f\"I hate {beatle}!\")\n",
        "      print(\"\\n\")"
      ],
      "metadata": {
        "id": "cb212PumTUM-"
      },
      "execution_count": null,
      "outputs": []
    },
    {
      "cell_type": "markdown",
      "source": [
        "**Solution:**\n",
        "\n",
        "1. A single `=` sign is the assignment operator. For the logical operator \"equals to\" we need to use the double equal sign `==`:"
      ],
      "metadata": {
        "id": "-ksZZmgjUHXE"
      }
    },
    {
      "cell_type": "code",
      "source": [
        "for beatle in beatles:\n",
        "  if beatle == \"Ringo Starr\":\n",
        "    for n in numbers:\n",
        "      print(f\"I love {beatle}!\")\n",
        "  if beatle != \"Ringo Starr\":\n",
        "    print(f\"I hate {beatle}!\")\n",
        "      print(\"\\n\")"
      ],
      "metadata": {
        "id": "xONYJxSxVDJx"
      },
      "execution_count": null,
      "outputs": []
    },
    {
      "cell_type": "markdown",
      "source": [
        "2. The `print(\"\\n\")` statement needs to be properly indented."
      ],
      "metadata": {
        "id": "L84VGx6blhYC"
      }
    },
    {
      "cell_type": "code",
      "source": [
        "for beatle in beatles:\n",
        "  if beatle == \"Ringo Starr\":\n",
        "    for n in numbers:\n",
        "      print(f\"I love {beatle}!\")\n",
        "  if beatle != \"Ringo Starr\":\n",
        "    for n in numbers:\n",
        "      print(f\"I hate {beatle}!\")\n",
        "  print(\"\\n\")"
      ],
      "metadata": {
        "id": "ej6YVJz-lhtW"
      },
      "execution_count": null,
      "outputs": []
    },
    {
      "cell_type": "markdown",
      "source": [
        "3. We want to iterate through `numbers` first, and then through `beatles`."
      ],
      "metadata": {
        "id": "tqsYMxcsliQs"
      }
    },
    {
      "cell_type": "code",
      "source": [
        "for n in numbers:\n",
        "  for beatle in beatles:\n",
        "    if beatle == \"Ringo Starr\":\n",
        "        print(f\"I love {beatle}!\")\n",
        "    if beatle != \"Ringo Starr\":\n",
        "      print(f\"I hate {beatle}!\")\n",
        "  print(\"\\n\")"
      ],
      "metadata": {
        "id": "bk3M_iVHlcTD"
      },
      "execution_count": null,
      "outputs": []
    },
    {
      "cell_type": "markdown",
      "source": [
        "4. Optionally, we can replace `if beatle != \"Ringo Starr\":` with `else`. It will make our code simpler and more elegant:"
      ],
      "metadata": {
        "id": "E630g2vxmXSp"
      }
    },
    {
      "cell_type": "code",
      "source": [
        "for n in numbers:\n",
        "  for beatle in beatles:\n",
        "    if beatle == \"Ringo Starr\":\n",
        "        print(f\"I love {beatle}!\")\n",
        "    else:\n",
        "      print(f\"I hate {beatle}!\")\n",
        "  print(\"\\n\")"
      ],
      "metadata": {
        "id": "F5GuSupgmkWR"
      },
      "execution_count": null,
      "outputs": []
    },
    {
      "cell_type": "markdown",
      "source": [
        "## Exercise 3:"
      ],
      "metadata": {
        "id": "cOKlhWRqMQF1"
      }
    },
    {
      "cell_type": "code",
      "source": [
        "top_profitable_films = pd.DataFrame(top_profitable_films)\n",
        "top_profitable_films.head"
      ],
      "metadata": {
        "id": "h6PF4HQfMiex"
      },
      "execution_count": null,
      "outputs": []
    },
    {
      "cell_type": "markdown",
      "source": [
        "1. We have not imported pandas yet, hence the NameError for `pd`.\n",
        "\n"
      ],
      "metadata": {
        "id": "yD99xAaJN5hM"
      }
    },
    {
      "cell_type": "code",
      "source": [
        "import pandas as pd\n",
        "top_profitable_films = pd.DataFrame(top_profitable_films)\n",
        "top_profitable_films.head"
      ],
      "metadata": {
        "id": "FFJsXqymNuFm"
      },
      "execution_count": null,
      "outputs": []
    },
    {
      "cell_type": "markdown",
      "source": [
        "2. It is not a good practice to overwrite the variable of the original dataset when creating a new version of it. We want to preserve the dictionary `top_profitable_films`."
      ],
      "metadata": {
        "id": "UHLgEP6cm-0W"
      }
    },
    {
      "cell_type": "code",
      "source": [
        "import pandas as pd\n",
        "top_films_df = pd.DataFrame(top_profitable_films)\n",
        "top_films_df.head"
      ],
      "metadata": {
        "id": "i-XuAJxPm-ic"
      },
      "execution_count": null,
      "outputs": []
    },
    {
      "cell_type": "markdown",
      "source": [
        "3. `head()` is a method, and therefore needs the parentheses.\n"
      ],
      "metadata": {
        "id": "_7qCS9YXm-Pp"
      }
    },
    {
      "cell_type": "code",
      "source": [
        "import pandas as pd\n",
        "top_films_df = pd.DataFrame(top_profitable_films)\n",
        "top_films_df.head()"
      ],
      "metadata": {
        "id": "Vti9kgJLm92-",
        "outputId": "8eaa8a12-649f-4e54-c191-b60e4f2f8793",
        "colab": {
          "base_uri": "https://localhost:8080/",
          "height": 206
        }
      },
      "execution_count": 6,
      "outputs": [
        {
          "output_type": "execute_result",
          "data": {
            "text/plain": [
              "                           Film  Year Worldwide Gross (in billions)\n",
              "0             Avengers: Endgame  2019                         2.798\n",
              "1                        Avatar  2007                         2.789\n",
              "2                       Titanic  1997                         2.194\n",
              "3  Star Wars: The Force Awakens  2015                         2.073\n",
              "4                Jurassic World  2015                         1.673"
            ],
            "text/html": [
              "\n",
              "  <div id=\"df-4ddca9c4-bea7-4c43-9681-b5be34ee6c24\">\n",
              "    <div class=\"colab-df-container\">\n",
              "      <div>\n",
              "<style scoped>\n",
              "    .dataframe tbody tr th:only-of-type {\n",
              "        vertical-align: middle;\n",
              "    }\n",
              "\n",
              "    .dataframe tbody tr th {\n",
              "        vertical-align: top;\n",
              "    }\n",
              "\n",
              "    .dataframe thead th {\n",
              "        text-align: right;\n",
              "    }\n",
              "</style>\n",
              "<table border=\"1\" class=\"dataframe\">\n",
              "  <thead>\n",
              "    <tr style=\"text-align: right;\">\n",
              "      <th></th>\n",
              "      <th>Film</th>\n",
              "      <th>Year</th>\n",
              "      <th>Worldwide Gross (in billions)</th>\n",
              "    </tr>\n",
              "  </thead>\n",
              "  <tbody>\n",
              "    <tr>\n",
              "      <th>0</th>\n",
              "      <td>Avengers: Endgame</td>\n",
              "      <td>2019</td>\n",
              "      <td>2.798</td>\n",
              "    </tr>\n",
              "    <tr>\n",
              "      <th>1</th>\n",
              "      <td>Avatar</td>\n",
              "      <td>2007</td>\n",
              "      <td>2.789</td>\n",
              "    </tr>\n",
              "    <tr>\n",
              "      <th>2</th>\n",
              "      <td>Titanic</td>\n",
              "      <td>1997</td>\n",
              "      <td>2.194</td>\n",
              "    </tr>\n",
              "    <tr>\n",
              "      <th>3</th>\n",
              "      <td>Star Wars: The Force Awakens</td>\n",
              "      <td>2015</td>\n",
              "      <td>2.073</td>\n",
              "    </tr>\n",
              "    <tr>\n",
              "      <th>4</th>\n",
              "      <td>Jurassic World</td>\n",
              "      <td>2015</td>\n",
              "      <td>1.673</td>\n",
              "    </tr>\n",
              "  </tbody>\n",
              "</table>\n",
              "</div>\n",
              "      <button class=\"colab-df-convert\" onclick=\"convertToInteractive('df-4ddca9c4-bea7-4c43-9681-b5be34ee6c24')\"\n",
              "              title=\"Convert this dataframe to an interactive table.\"\n",
              "              style=\"display:none;\">\n",
              "        \n",
              "  <svg xmlns=\"http://www.w3.org/2000/svg\" height=\"24px\"viewBox=\"0 0 24 24\"\n",
              "       width=\"24px\">\n",
              "    <path d=\"M0 0h24v24H0V0z\" fill=\"none\"/>\n",
              "    <path d=\"M18.56 5.44l.94 2.06.94-2.06 2.06-.94-2.06-.94-.94-2.06-.94 2.06-2.06.94zm-11 1L8.5 8.5l.94-2.06 2.06-.94-2.06-.94L8.5 2.5l-.94 2.06-2.06.94zm10 10l.94 2.06.94-2.06 2.06-.94-2.06-.94-.94-2.06-.94 2.06-2.06.94z\"/><path d=\"M17.41 7.96l-1.37-1.37c-.4-.4-.92-.59-1.43-.59-.52 0-1.04.2-1.43.59L10.3 9.45l-7.72 7.72c-.78.78-.78 2.05 0 2.83L4 21.41c.39.39.9.59 1.41.59.51 0 1.02-.2 1.41-.59l7.78-7.78 2.81-2.81c.8-.78.8-2.07 0-2.86zM5.41 20L4 18.59l7.72-7.72 1.47 1.35L5.41 20z\"/>\n",
              "  </svg>\n",
              "      </button>\n",
              "      \n",
              "  <style>\n",
              "    .colab-df-container {\n",
              "      display:flex;\n",
              "      flex-wrap:wrap;\n",
              "      gap: 12px;\n",
              "    }\n",
              "\n",
              "    .colab-df-convert {\n",
              "      background-color: #E8F0FE;\n",
              "      border: none;\n",
              "      border-radius: 50%;\n",
              "      cursor: pointer;\n",
              "      display: none;\n",
              "      fill: #1967D2;\n",
              "      height: 32px;\n",
              "      padding: 0 0 0 0;\n",
              "      width: 32px;\n",
              "    }\n",
              "\n",
              "    .colab-df-convert:hover {\n",
              "      background-color: #E2EBFA;\n",
              "      box-shadow: 0px 1px 2px rgba(60, 64, 67, 0.3), 0px 1px 3px 1px rgba(60, 64, 67, 0.15);\n",
              "      fill: #174EA6;\n",
              "    }\n",
              "\n",
              "    [theme=dark] .colab-df-convert {\n",
              "      background-color: #3B4455;\n",
              "      fill: #D2E3FC;\n",
              "    }\n",
              "\n",
              "    [theme=dark] .colab-df-convert:hover {\n",
              "      background-color: #434B5C;\n",
              "      box-shadow: 0px 1px 3px 1px rgba(0, 0, 0, 0.15);\n",
              "      filter: drop-shadow(0px 1px 2px rgba(0, 0, 0, 0.3));\n",
              "      fill: #FFFFFF;\n",
              "    }\n",
              "  </style>\n",
              "\n",
              "      <script>\n",
              "        const buttonEl =\n",
              "          document.querySelector('#df-4ddca9c4-bea7-4c43-9681-b5be34ee6c24 button.colab-df-convert');\n",
              "        buttonEl.style.display =\n",
              "          google.colab.kernel.accessAllowed ? 'block' : 'none';\n",
              "\n",
              "        async function convertToInteractive(key) {\n",
              "          const element = document.querySelector('#df-4ddca9c4-bea7-4c43-9681-b5be34ee6c24');\n",
              "          const dataTable =\n",
              "            await google.colab.kernel.invokeFunction('convertToInteractive',\n",
              "                                                     [key], {});\n",
              "          if (!dataTable) return;\n",
              "\n",
              "          const docLinkHtml = 'Like what you see? Visit the ' +\n",
              "            '<a target=\"_blank\" href=https://colab.research.google.com/notebooks/data_table.ipynb>data table notebook</a>'\n",
              "            + ' to learn more about interactive tables.';\n",
              "          element.innerHTML = '';\n",
              "          dataTable['output_type'] = 'display_data';\n",
              "          await google.colab.output.renderOutput(dataTable, element);\n",
              "          const docLink = document.createElement('div');\n",
              "          docLink.innerHTML = docLinkHtml;\n",
              "          element.appendChild(docLink);\n",
              "        }\n",
              "      </script>\n",
              "    </div>\n",
              "  </div>\n",
              "  "
            ]
          },
          "metadata": {},
          "execution_count": 6
        }
      ]
    },
    {
      "cell_type": "markdown",
      "source": [
        "## Exercise 4:"
      ],
      "metadata": {
        "id": "nuQNxD6HOcMP"
      }
    },
    {
      "cell_type": "code",
      "source": [
        "top_films_df[top_films_df[\"Film\"]==\"Avatar\"][\"Year\"] = \"2009\""
      ],
      "metadata": {
        "id": "03M8YhGWRW5f",
        "outputId": "c63d9a30-95ac-4dc2-99e1-2460766bb7cd",
        "colab": {
          "base_uri": "https://localhost:8080/"
        }
      },
      "execution_count": 7,
      "outputs": [
        {
          "output_type": "stream",
          "name": "stderr",
          "text": [
            "<ipython-input-7-6c1fb2da2ff2>:1: SettingWithCopyWarning: \n",
            "A value is trying to be set on a copy of a slice from a DataFrame.\n",
            "Try using .loc[row_indexer,col_indexer] = value instead\n",
            "\n",
            "See the caveats in the documentation: https://pandas.pydata.org/pandas-docs/stable/user_guide/indexing.html#returning-a-view-versus-a-copy\n",
            "  top_films_df[top_films_df[\"Film\"]==\"Avatar\"][\"Year\"] = \"2009\"\n"
          ]
        }
      ]
    },
    {
      "cell_type": "code",
      "source": [
        "top_profitable_films[\"Year\"][1] = \"2009\""
      ],
      "metadata": {
        "id": "1LLb3JYScc_4"
      },
      "execution_count": 8,
      "outputs": []
    },
    {
      "cell_type": "markdown",
      "source": [
        "**Solution:**\n",
        "\n",
        "In general, when selecting data from a DataFrame, and ALWAYS when overwriting data from it, use `.loc[]` instead of simple `[]`.\n",
        "\n",
        "When fixing the infamous `A value is trying to be set on a copy of a slice from a DataFrame.` error, it's better to have a fresh start, so create the dataframe again."
      ],
      "metadata": {
        "id": "rsJIH8tKRokz"
      }
    },
    {
      "cell_type": "code",
      "source": [
        "top_profitable_films = pd.DataFrame(top_profitable_films)\n",
        "\n",
        "top_films_df.loc[top_films_df[\"Film\"]==\"Avatar\", \"Year\"] = \"2009\""
      ],
      "metadata": {
        "id": "ohTamlJCSqMZ"
      },
      "execution_count": null,
      "outputs": []
    },
    {
      "cell_type": "code",
      "source": [
        "top_films_df.head(2)"
      ],
      "metadata": {
        "id": "4manuy-YS4V6"
      },
      "execution_count": null,
      "outputs": []
    },
    {
      "cell_type": "markdown",
      "source": [
        "## Exercise 5:\n",
        "\n",
        "We want to get the average gross profit of all films:"
      ],
      "metadata": {
        "id": "OwCeBaNYS_aM"
      }
    },
    {
      "cell_type": "code",
      "source": [
        "top_films_df[\"Worldwide Gross (in billions)\"].avg()"
      ],
      "metadata": {
        "id": "ChhryXzVZK4G"
      },
      "execution_count": null,
      "outputs": []
    },
    {
      "cell_type": "markdown",
      "source": [
        "**Solution:**\n",
        "\n",
        "1. The `AttributeError: 'Series' object has no attribute 'avg'` tells us that the method we have used does not exist for a Pandas column (which is a Series). A quick google shows us that the method we need is `mean()`:"
      ],
      "metadata": {
        "id": "GQVVAU3LZy78"
      }
    },
    {
      "cell_type": "code",
      "source": [
        "top_films_df[\"Worldwide Gross (in billions)\"].mean()"
      ],
      "metadata": {
        "id": "t6P7WEMDacu_"
      },
      "execution_count": null,
      "outputs": []
    },
    {
      "cell_type": "markdown",
      "source": [
        "2. The `TypeError` and the message `Could not convert 2.7982.7892.1942.0731.6731.6561.5191.4501.2761.263 to numeric` we understand that these numbers don't have a numeric data type, which does not allow Pandas to compute their mean. Let's change it:"
      ],
      "metadata": {
        "id": "elASVJtwafIY"
      }
    },
    {
      "cell_type": "code",
      "source": [
        "top_films_df.loc[:, \"Worldwide Gross (in billions)\"] = pd.to_numeric(top_films_df.loc[:, \"Worldwide Gross (in billions)\"])\n",
        "top_films_df[\"Worldwide Gross (in billions)\"].mean()"
      ],
      "metadata": {
        "id": "kfHUXgT_a4mO"
      },
      "execution_count": null,
      "outputs": []
    },
    {
      "cell_type": "code",
      "source": [],
      "metadata": {
        "id": "g5fnaEXabhy7"
      },
      "execution_count": null,
      "outputs": []
    }
  ]
}